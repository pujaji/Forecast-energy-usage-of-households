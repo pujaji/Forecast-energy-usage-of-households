{
 "cells": [
  {
   "cell_type": "markdown",
   "metadata": {},
   "source": [
    "Problem Statement  ::\n",
    "Forecast energy usage of households. - Forecast the electricity consumption of top 3 households with highest number of samples on an hourly basis based on the previous usage pattern. The major features for analysis includes household id, the plans used (standard or dynamic time of use), date, time, meter readings in Kwh and acorn groups\n"
   ]
  },
  {
   "cell_type": "markdown",
   "metadata": {},
   "source": [
    "Import required libraries"
   ]
  },
  {
   "cell_type": "code",
   "execution_count": 89,
   "metadata": {},
   "outputs": [],
   "source": [
    "import pandas as pd\n",
    "import numpy as np\n",
    "import matplotlib.pyplot as mplt\n",
    "import seaborn as sns\n",
    "from datetime import datetime\n",
    "import calendar"
   ]
  },
  {
   "cell_type": "code",
   "execution_count": 13,
   "metadata": {},
   "outputs": [],
   "source": [
    "df = pd.read_csv('/home/puja/Downloads/Power-Networks-LCL.csv')"
   ]
  },
  {
   "cell_type": "code",
   "execution_count": 113,
   "metadata": {},
   "outputs": [
    {
     "data": {
      "text/html": [
       "<div>\n",
       "<table border=\"1\" class=\"dataframe\">\n",
       "  <thead>\n",
       "    <tr style=\"text-align: right;\">\n",
       "      <th></th>\n",
       "      <th>LCLid</th>\n",
       "      <th>stdorToU</th>\n",
       "      <th>DateTime</th>\n",
       "      <th>KWh</th>\n",
       "      <th>Acorn</th>\n",
       "      <th>Acorn_grouped</th>\n",
       "    </tr>\n",
       "  </thead>\n",
       "  <tbody>\n",
       "    <tr>\n",
       "      <th>10000</th>\n",
       "      <td>MAC000002</td>\n",
       "      <td>Std</td>\n",
       "      <td>2013-05-09 06:30:00.0000000</td>\n",
       "      <td>0.126</td>\n",
       "      <td>ACORN-A</td>\n",
       "      <td>Affluent</td>\n",
       "    </tr>\n",
       "    <tr>\n",
       "      <th>10001</th>\n",
       "      <td>MAC000002</td>\n",
       "      <td>Std</td>\n",
       "      <td>2013-05-09 07:00:00.0000000</td>\n",
       "      <td>0.073</td>\n",
       "      <td>ACORN-A</td>\n",
       "      <td>Affluent</td>\n",
       "    </tr>\n",
       "    <tr>\n",
       "      <th>10002</th>\n",
       "      <td>MAC000002</td>\n",
       "      <td>Std</td>\n",
       "      <td>2013-05-09 07:30:00.0000000</td>\n",
       "      <td>0.165</td>\n",
       "      <td>ACORN-A</td>\n",
       "      <td>Affluent</td>\n",
       "    </tr>\n",
       "    <tr>\n",
       "      <th>10003</th>\n",
       "      <td>MAC000002</td>\n",
       "      <td>Std</td>\n",
       "      <td>2013-05-09 08:00:00.0000000</td>\n",
       "      <td>0.088</td>\n",
       "      <td>ACORN-A</td>\n",
       "      <td>Affluent</td>\n",
       "    </tr>\n",
       "    <tr>\n",
       "      <th>10004</th>\n",
       "      <td>MAC000002</td>\n",
       "      <td>Std</td>\n",
       "      <td>2013-05-09 08:30:00.0000000</td>\n",
       "      <td>0.464</td>\n",
       "      <td>ACORN-A</td>\n",
       "      <td>Affluent</td>\n",
       "    </tr>\n",
       "    <tr>\n",
       "      <th>10005</th>\n",
       "      <td>MAC000002</td>\n",
       "      <td>Std</td>\n",
       "      <td>2013-05-09 09:00:00.0000000</td>\n",
       "      <td>0.128</td>\n",
       "      <td>ACORN-A</td>\n",
       "      <td>Affluent</td>\n",
       "    </tr>\n",
       "    <tr>\n",
       "      <th>10006</th>\n",
       "      <td>MAC000002</td>\n",
       "      <td>Std</td>\n",
       "      <td>2013-05-09 09:30:00.0000000</td>\n",
       "      <td>0.091</td>\n",
       "      <td>ACORN-A</td>\n",
       "      <td>Affluent</td>\n",
       "    </tr>\n",
       "    <tr>\n",
       "      <th>10007</th>\n",
       "      <td>MAC000002</td>\n",
       "      <td>Std</td>\n",
       "      <td>2013-05-09 10:00:00.0000000</td>\n",
       "      <td>0.128</td>\n",
       "      <td>ACORN-A</td>\n",
       "      <td>Affluent</td>\n",
       "    </tr>\n",
       "    <tr>\n",
       "      <th>10008</th>\n",
       "      <td>MAC000002</td>\n",
       "      <td>Std</td>\n",
       "      <td>2013-05-09 10:30:00.0000000</td>\n",
       "      <td>0.078</td>\n",
       "      <td>ACORN-A</td>\n",
       "      <td>Affluent</td>\n",
       "    </tr>\n",
       "    <tr>\n",
       "      <th>10009</th>\n",
       "      <td>MAC000002</td>\n",
       "      <td>Std</td>\n",
       "      <td>2013-05-09 11:00:00.0000000</td>\n",
       "      <td>0.491</td>\n",
       "      <td>ACORN-A</td>\n",
       "      <td>Affluent</td>\n",
       "    </tr>\n",
       "    <tr>\n",
       "      <th>10010</th>\n",
       "      <td>MAC000002</td>\n",
       "      <td>Std</td>\n",
       "      <td>2013-05-09 11:30:00.0000000</td>\n",
       "      <td>0.080</td>\n",
       "      <td>ACORN-A</td>\n",
       "      <td>Affluent</td>\n",
       "    </tr>\n",
       "    <tr>\n",
       "      <th>10011</th>\n",
       "      <td>MAC000002</td>\n",
       "      <td>Std</td>\n",
       "      <td>2013-05-09 12:00:00.0000000</td>\n",
       "      <td>0.121</td>\n",
       "      <td>ACORN-A</td>\n",
       "      <td>Affluent</td>\n",
       "    </tr>\n",
       "    <tr>\n",
       "      <th>10012</th>\n",
       "      <td>MAC000002</td>\n",
       "      <td>Std</td>\n",
       "      <td>2013-05-09 12:30:00.0000000</td>\n",
       "      <td>0.094</td>\n",
       "      <td>ACORN-A</td>\n",
       "      <td>Affluent</td>\n",
       "    </tr>\n",
       "    <tr>\n",
       "      <th>10013</th>\n",
       "      <td>MAC000002</td>\n",
       "      <td>Std</td>\n",
       "      <td>2013-05-09 13:00:00.0000000</td>\n",
       "      <td>0.106</td>\n",
       "      <td>ACORN-A</td>\n",
       "      <td>Affluent</td>\n",
       "    </tr>\n",
       "    <tr>\n",
       "      <th>10014</th>\n",
       "      <td>MAC000002</td>\n",
       "      <td>Std</td>\n",
       "      <td>2013-05-09 13:30:00.0000000</td>\n",
       "      <td>0.108</td>\n",
       "      <td>ACORN-A</td>\n",
       "      <td>Affluent</td>\n",
       "    </tr>\n",
       "    <tr>\n",
       "      <th>10015</th>\n",
       "      <td>MAC000002</td>\n",
       "      <td>Std</td>\n",
       "      <td>2013-05-09 14:00:00.0000000</td>\n",
       "      <td>0.092</td>\n",
       "      <td>ACORN-A</td>\n",
       "      <td>Affluent</td>\n",
       "    </tr>\n",
       "    <tr>\n",
       "      <th>10016</th>\n",
       "      <td>MAC000002</td>\n",
       "      <td>Std</td>\n",
       "      <td>2013-05-09 14:30:00.0000000</td>\n",
       "      <td>0.123</td>\n",
       "      <td>ACORN-A</td>\n",
       "      <td>Affluent</td>\n",
       "    </tr>\n",
       "    <tr>\n",
       "      <th>10017</th>\n",
       "      <td>MAC000002</td>\n",
       "      <td>Std</td>\n",
       "      <td>2013-05-09 15:00:00.0000000</td>\n",
       "      <td>0.078</td>\n",
       "      <td>ACORN-A</td>\n",
       "      <td>Affluent</td>\n",
       "    </tr>\n",
       "    <tr>\n",
       "      <th>10018</th>\n",
       "      <td>MAC000002</td>\n",
       "      <td>Std</td>\n",
       "      <td>2013-05-09 15:30:00.0000000</td>\n",
       "      <td>0.126</td>\n",
       "      <td>ACORN-A</td>\n",
       "      <td>Affluent</td>\n",
       "    </tr>\n",
       "    <tr>\n",
       "      <th>10019</th>\n",
       "      <td>MAC000002</td>\n",
       "      <td>Std</td>\n",
       "      <td>2013-05-09 16:00:00.0000000</td>\n",
       "      <td>0.077</td>\n",
       "      <td>ACORN-A</td>\n",
       "      <td>Affluent</td>\n",
       "    </tr>\n",
       "    <tr>\n",
       "      <th>10020</th>\n",
       "      <td>MAC000002</td>\n",
       "      <td>Std</td>\n",
       "      <td>2013-05-09 16:30:00.0000000</td>\n",
       "      <td>0.122</td>\n",
       "      <td>ACORN-A</td>\n",
       "      <td>Affluent</td>\n",
       "    </tr>\n",
       "    <tr>\n",
       "      <th>10021</th>\n",
       "      <td>MAC000002</td>\n",
       "      <td>Std</td>\n",
       "      <td>2013-05-09 17:00:00.0000000</td>\n",
       "      <td>0.156</td>\n",
       "      <td>ACORN-A</td>\n",
       "      <td>Affluent</td>\n",
       "    </tr>\n",
       "    <tr>\n",
       "      <th>10022</th>\n",
       "      <td>MAC000002</td>\n",
       "      <td>Std</td>\n",
       "      <td>2013-05-09 17:30:00.0000000</td>\n",
       "      <td>0.241</td>\n",
       "      <td>ACORN-A</td>\n",
       "      <td>Affluent</td>\n",
       "    </tr>\n",
       "    <tr>\n",
       "      <th>10023</th>\n",
       "      <td>MAC000002</td>\n",
       "      <td>Std</td>\n",
       "      <td>2013-05-09 18:00:00.0000000</td>\n",
       "      <td>0.342</td>\n",
       "      <td>ACORN-A</td>\n",
       "      <td>Affluent</td>\n",
       "    </tr>\n",
       "    <tr>\n",
       "      <th>10024</th>\n",
       "      <td>MAC000002</td>\n",
       "      <td>Std</td>\n",
       "      <td>2013-05-09 18:30:00.0000000</td>\n",
       "      <td>0.243</td>\n",
       "      <td>ACORN-A</td>\n",
       "      <td>Affluent</td>\n",
       "    </tr>\n",
       "    <tr>\n",
       "      <th>10025</th>\n",
       "      <td>MAC000002</td>\n",
       "      <td>Std</td>\n",
       "      <td>2013-05-09 19:00:00.0000000</td>\n",
       "      <td>1.166</td>\n",
       "      <td>ACORN-A</td>\n",
       "      <td>Affluent</td>\n",
       "    </tr>\n",
       "    <tr>\n",
       "      <th>10026</th>\n",
       "      <td>MAC000002</td>\n",
       "      <td>Std</td>\n",
       "      <td>2013-05-09 19:30:00.0000000</td>\n",
       "      <td>0.149</td>\n",
       "      <td>ACORN-A</td>\n",
       "      <td>Affluent</td>\n",
       "    </tr>\n",
       "    <tr>\n",
       "      <th>10027</th>\n",
       "      <td>MAC000002</td>\n",
       "      <td>Std</td>\n",
       "      <td>2013-05-09 20:00:00.0000000</td>\n",
       "      <td>0.192</td>\n",
       "      <td>ACORN-A</td>\n",
       "      <td>Affluent</td>\n",
       "    </tr>\n",
       "    <tr>\n",
       "      <th>10028</th>\n",
       "      <td>MAC000002</td>\n",
       "      <td>Std</td>\n",
       "      <td>2013-05-09 20:30:00.0000000</td>\n",
       "      <td>0.161</td>\n",
       "      <td>ACORN-A</td>\n",
       "      <td>Affluent</td>\n",
       "    </tr>\n",
       "    <tr>\n",
       "      <th>10029</th>\n",
       "      <td>MAC000002</td>\n",
       "      <td>Std</td>\n",
       "      <td>2013-05-09 21:00:00.0000000</td>\n",
       "      <td>0.217</td>\n",
       "      <td>ACORN-A</td>\n",
       "      <td>Affluent</td>\n",
       "    </tr>\n",
       "    <tr>\n",
       "      <th>...</th>\n",
       "      <td>...</td>\n",
       "      <td>...</td>\n",
       "      <td>...</td>\n",
       "      <td>...</td>\n",
       "      <td>...</td>\n",
       "      <td>...</td>\n",
       "    </tr>\n",
       "    <tr>\n",
       "      <th>999941</th>\n",
       "      <td>MAC000036</td>\n",
       "      <td>Std</td>\n",
       "      <td>2012-11-07 19:30:00.0000000</td>\n",
       "      <td>0.069</td>\n",
       "      <td>ACORN-E</td>\n",
       "      <td>Affluent</td>\n",
       "    </tr>\n",
       "    <tr>\n",
       "      <th>999942</th>\n",
       "      <td>MAC000036</td>\n",
       "      <td>Std</td>\n",
       "      <td>2012-11-07 20:00:00.0000000</td>\n",
       "      <td>0.047</td>\n",
       "      <td>ACORN-E</td>\n",
       "      <td>Affluent</td>\n",
       "    </tr>\n",
       "    <tr>\n",
       "      <th>999943</th>\n",
       "      <td>MAC000036</td>\n",
       "      <td>Std</td>\n",
       "      <td>2012-11-07 20:30:00.0000000</td>\n",
       "      <td>0.047</td>\n",
       "      <td>ACORN-E</td>\n",
       "      <td>Affluent</td>\n",
       "    </tr>\n",
       "    <tr>\n",
       "      <th>999944</th>\n",
       "      <td>MAC000036</td>\n",
       "      <td>Std</td>\n",
       "      <td>2012-11-07 21:00:00.0000000</td>\n",
       "      <td>0.249</td>\n",
       "      <td>ACORN-E</td>\n",
       "      <td>Affluent</td>\n",
       "    </tr>\n",
       "    <tr>\n",
       "      <th>999945</th>\n",
       "      <td>MAC000036</td>\n",
       "      <td>Std</td>\n",
       "      <td>2012-11-07 21:30:00.0000000</td>\n",
       "      <td>0.070</td>\n",
       "      <td>ACORN-E</td>\n",
       "      <td>Affluent</td>\n",
       "    </tr>\n",
       "    <tr>\n",
       "      <th>999946</th>\n",
       "      <td>MAC000036</td>\n",
       "      <td>Std</td>\n",
       "      <td>2012-11-07 22:00:00.0000000</td>\n",
       "      <td>0.038</td>\n",
       "      <td>ACORN-E</td>\n",
       "      <td>Affluent</td>\n",
       "    </tr>\n",
       "    <tr>\n",
       "      <th>999947</th>\n",
       "      <td>MAC000036</td>\n",
       "      <td>Std</td>\n",
       "      <td>2012-11-07 22:30:00.0000000</td>\n",
       "      <td>0.006</td>\n",
       "      <td>ACORN-E</td>\n",
       "      <td>Affluent</td>\n",
       "    </tr>\n",
       "    <tr>\n",
       "      <th>999948</th>\n",
       "      <td>MAC000036</td>\n",
       "      <td>Std</td>\n",
       "      <td>2012-11-07 23:00:00.0000000</td>\n",
       "      <td>0.042</td>\n",
       "      <td>ACORN-E</td>\n",
       "      <td>Affluent</td>\n",
       "    </tr>\n",
       "    <tr>\n",
       "      <th>999949</th>\n",
       "      <td>MAC000036</td>\n",
       "      <td>Std</td>\n",
       "      <td>2012-11-07 23:30:00.0000000</td>\n",
       "      <td>0.034</td>\n",
       "      <td>ACORN-E</td>\n",
       "      <td>Affluent</td>\n",
       "    </tr>\n",
       "    <tr>\n",
       "      <th>999950</th>\n",
       "      <td>MAC000036</td>\n",
       "      <td>Std</td>\n",
       "      <td>2012-11-08 00:00:00.0000000</td>\n",
       "      <td>0.002</td>\n",
       "      <td>ACORN-E</td>\n",
       "      <td>Affluent</td>\n",
       "    </tr>\n",
       "    <tr>\n",
       "      <th>999951</th>\n",
       "      <td>MAC000036</td>\n",
       "      <td>Std</td>\n",
       "      <td>2012-11-08 00:30:00.0000000</td>\n",
       "      <td>0.000</td>\n",
       "      <td>ACORN-E</td>\n",
       "      <td>Affluent</td>\n",
       "    </tr>\n",
       "    <tr>\n",
       "      <th>999952</th>\n",
       "      <td>MAC000036</td>\n",
       "      <td>Std</td>\n",
       "      <td>2012-11-08 01:00:00.0000000</td>\n",
       "      <td>0.036</td>\n",
       "      <td>ACORN-E</td>\n",
       "      <td>Affluent</td>\n",
       "    </tr>\n",
       "    <tr>\n",
       "      <th>999953</th>\n",
       "      <td>MAC000036</td>\n",
       "      <td>Std</td>\n",
       "      <td>2012-11-08 01:30:00.0000000</td>\n",
       "      <td>0.030</td>\n",
       "      <td>ACORN-E</td>\n",
       "      <td>Affluent</td>\n",
       "    </tr>\n",
       "    <tr>\n",
       "      <th>999954</th>\n",
       "      <td>MAC000036</td>\n",
       "      <td>Std</td>\n",
       "      <td>2012-11-08 02:00:00.0000000</td>\n",
       "      <td>0.000</td>\n",
       "      <td>ACORN-E</td>\n",
       "      <td>Affluent</td>\n",
       "    </tr>\n",
       "    <tr>\n",
       "      <th>999955</th>\n",
       "      <td>MAC000036</td>\n",
       "      <td>Std</td>\n",
       "      <td>2012-11-08 02:30:00.0000000</td>\n",
       "      <td>0.000</td>\n",
       "      <td>ACORN-E</td>\n",
       "      <td>Affluent</td>\n",
       "    </tr>\n",
       "    <tr>\n",
       "      <th>999956</th>\n",
       "      <td>MAC000036</td>\n",
       "      <td>Std</td>\n",
       "      <td>2012-11-08 03:00:00.0000000</td>\n",
       "      <td>0.034</td>\n",
       "      <td>ACORN-E</td>\n",
       "      <td>Affluent</td>\n",
       "    </tr>\n",
       "    <tr>\n",
       "      <th>999957</th>\n",
       "      <td>MAC000036</td>\n",
       "      <td>Std</td>\n",
       "      <td>2012-11-08 03:30:00.0000000</td>\n",
       "      <td>0.034</td>\n",
       "      <td>ACORN-E</td>\n",
       "      <td>Affluent</td>\n",
       "    </tr>\n",
       "    <tr>\n",
       "      <th>999958</th>\n",
       "      <td>MAC000036</td>\n",
       "      <td>Std</td>\n",
       "      <td>2012-11-08 04:00:00.0000000</td>\n",
       "      <td>0.000</td>\n",
       "      <td>ACORN-E</td>\n",
       "      <td>Affluent</td>\n",
       "    </tr>\n",
       "    <tr>\n",
       "      <th>999959</th>\n",
       "      <td>MAC000036</td>\n",
       "      <td>Std</td>\n",
       "      <td>2012-11-08 04:30:00.0000000</td>\n",
       "      <td>0.000</td>\n",
       "      <td>ACORN-E</td>\n",
       "      <td>Affluent</td>\n",
       "    </tr>\n",
       "    <tr>\n",
       "      <th>999960</th>\n",
       "      <td>MAC000036</td>\n",
       "      <td>Std</td>\n",
       "      <td>2012-11-08 05:00:00.0000000</td>\n",
       "      <td>0.028</td>\n",
       "      <td>ACORN-E</td>\n",
       "      <td>Affluent</td>\n",
       "    </tr>\n",
       "    <tr>\n",
       "      <th>999961</th>\n",
       "      <td>MAC000036</td>\n",
       "      <td>Std</td>\n",
       "      <td>2012-11-08 05:30:00.0000000</td>\n",
       "      <td>0.038</td>\n",
       "      <td>ACORN-E</td>\n",
       "      <td>Affluent</td>\n",
       "    </tr>\n",
       "    <tr>\n",
       "      <th>999962</th>\n",
       "      <td>MAC000036</td>\n",
       "      <td>Std</td>\n",
       "      <td>2012-11-08 06:00:00.0000000</td>\n",
       "      <td>0.000</td>\n",
       "      <td>ACORN-E</td>\n",
       "      <td>Affluent</td>\n",
       "    </tr>\n",
       "    <tr>\n",
       "      <th>999963</th>\n",
       "      <td>MAC000036</td>\n",
       "      <td>Std</td>\n",
       "      <td>2012-11-08 06:30:00.0000000</td>\n",
       "      <td>0.000</td>\n",
       "      <td>ACORN-E</td>\n",
       "      <td>Affluent</td>\n",
       "    </tr>\n",
       "    <tr>\n",
       "      <th>999964</th>\n",
       "      <td>MAC000036</td>\n",
       "      <td>Std</td>\n",
       "      <td>2012-11-08 07:00:00.0000000</td>\n",
       "      <td>0.027</td>\n",
       "      <td>ACORN-E</td>\n",
       "      <td>Affluent</td>\n",
       "    </tr>\n",
       "    <tr>\n",
       "      <th>999965</th>\n",
       "      <td>MAC000036</td>\n",
       "      <td>Std</td>\n",
       "      <td>2012-11-08 07:30:00.0000000</td>\n",
       "      <td>0.039</td>\n",
       "      <td>ACORN-E</td>\n",
       "      <td>Affluent</td>\n",
       "    </tr>\n",
       "    <tr>\n",
       "      <th>999966</th>\n",
       "      <td>MAC000036</td>\n",
       "      <td>Std</td>\n",
       "      <td>2012-11-08 08:00:00.0000000</td>\n",
       "      <td>0.228</td>\n",
       "      <td>ACORN-E</td>\n",
       "      <td>Affluent</td>\n",
       "    </tr>\n",
       "    <tr>\n",
       "      <th>999967</th>\n",
       "      <td>MAC000036</td>\n",
       "      <td>Std</td>\n",
       "      <td>2012-11-08 08:30:00.0000000</td>\n",
       "      <td>0.042</td>\n",
       "      <td>ACORN-E</td>\n",
       "      <td>Affluent</td>\n",
       "    </tr>\n",
       "    <tr>\n",
       "      <th>999968</th>\n",
       "      <td>MAC000036</td>\n",
       "      <td>Std</td>\n",
       "      <td>2012-11-08 09:00:00.0000000</td>\n",
       "      <td>0.076</td>\n",
       "      <td>ACORN-E</td>\n",
       "      <td>Affluent</td>\n",
       "    </tr>\n",
       "    <tr>\n",
       "      <th>999969</th>\n",
       "      <td>MAC000036</td>\n",
       "      <td>Std</td>\n",
       "      <td>2012-11-08 09:30:00.0000000</td>\n",
       "      <td>0.070</td>\n",
       "      <td>ACORN-E</td>\n",
       "      <td>Affluent</td>\n",
       "    </tr>\n",
       "    <tr>\n",
       "      <th>999970</th>\n",
       "      <td>MAC000036</td>\n",
       "      <td>Std</td>\n",
       "      <td>2012-11-08 10:00:00.0000000</td>\n",
       "      <td>0.005</td>\n",
       "      <td>ACORN-E</td>\n",
       "      <td>Affluent</td>\n",
       "    </tr>\n",
       "  </tbody>\n",
       "</table>\n",
       "<p>989971 rows × 6 columns</p>\n",
       "</div>"
      ],
      "text/plain": [
       "            LCLid stdorToU                     DateTime    KWh    Acorn  \\\n",
       "10000   MAC000002      Std  2013-05-09 06:30:00.0000000  0.126  ACORN-A   \n",
       "10001   MAC000002      Std  2013-05-09 07:00:00.0000000  0.073  ACORN-A   \n",
       "10002   MAC000002      Std  2013-05-09 07:30:00.0000000  0.165  ACORN-A   \n",
       "10003   MAC000002      Std  2013-05-09 08:00:00.0000000  0.088  ACORN-A   \n",
       "10004   MAC000002      Std  2013-05-09 08:30:00.0000000  0.464  ACORN-A   \n",
       "10005   MAC000002      Std  2013-05-09 09:00:00.0000000  0.128  ACORN-A   \n",
       "10006   MAC000002      Std  2013-05-09 09:30:00.0000000  0.091  ACORN-A   \n",
       "10007   MAC000002      Std  2013-05-09 10:00:00.0000000  0.128  ACORN-A   \n",
       "10008   MAC000002      Std  2013-05-09 10:30:00.0000000  0.078  ACORN-A   \n",
       "10009   MAC000002      Std  2013-05-09 11:00:00.0000000  0.491  ACORN-A   \n",
       "10010   MAC000002      Std  2013-05-09 11:30:00.0000000  0.080  ACORN-A   \n",
       "10011   MAC000002      Std  2013-05-09 12:00:00.0000000  0.121  ACORN-A   \n",
       "10012   MAC000002      Std  2013-05-09 12:30:00.0000000  0.094  ACORN-A   \n",
       "10013   MAC000002      Std  2013-05-09 13:00:00.0000000  0.106  ACORN-A   \n",
       "10014   MAC000002      Std  2013-05-09 13:30:00.0000000  0.108  ACORN-A   \n",
       "10015   MAC000002      Std  2013-05-09 14:00:00.0000000  0.092  ACORN-A   \n",
       "10016   MAC000002      Std  2013-05-09 14:30:00.0000000  0.123  ACORN-A   \n",
       "10017   MAC000002      Std  2013-05-09 15:00:00.0000000  0.078  ACORN-A   \n",
       "10018   MAC000002      Std  2013-05-09 15:30:00.0000000  0.126  ACORN-A   \n",
       "10019   MAC000002      Std  2013-05-09 16:00:00.0000000  0.077  ACORN-A   \n",
       "10020   MAC000002      Std  2013-05-09 16:30:00.0000000  0.122  ACORN-A   \n",
       "10021   MAC000002      Std  2013-05-09 17:00:00.0000000  0.156  ACORN-A   \n",
       "10022   MAC000002      Std  2013-05-09 17:30:00.0000000  0.241  ACORN-A   \n",
       "10023   MAC000002      Std  2013-05-09 18:00:00.0000000  0.342  ACORN-A   \n",
       "10024   MAC000002      Std  2013-05-09 18:30:00.0000000  0.243  ACORN-A   \n",
       "10025   MAC000002      Std  2013-05-09 19:00:00.0000000  1.166  ACORN-A   \n",
       "10026   MAC000002      Std  2013-05-09 19:30:00.0000000  0.149  ACORN-A   \n",
       "10027   MAC000002      Std  2013-05-09 20:00:00.0000000  0.192  ACORN-A   \n",
       "10028   MAC000002      Std  2013-05-09 20:30:00.0000000  0.161  ACORN-A   \n",
       "10029   MAC000002      Std  2013-05-09 21:00:00.0000000  0.217  ACORN-A   \n",
       "...           ...      ...                          ...    ...      ...   \n",
       "999941  MAC000036      Std  2012-11-07 19:30:00.0000000  0.069  ACORN-E   \n",
       "999942  MAC000036      Std  2012-11-07 20:00:00.0000000  0.047  ACORN-E   \n",
       "999943  MAC000036      Std  2012-11-07 20:30:00.0000000  0.047  ACORN-E   \n",
       "999944  MAC000036      Std  2012-11-07 21:00:00.0000000  0.249  ACORN-E   \n",
       "999945  MAC000036      Std  2012-11-07 21:30:00.0000000  0.070  ACORN-E   \n",
       "999946  MAC000036      Std  2012-11-07 22:00:00.0000000  0.038  ACORN-E   \n",
       "999947  MAC000036      Std  2012-11-07 22:30:00.0000000  0.006  ACORN-E   \n",
       "999948  MAC000036      Std  2012-11-07 23:00:00.0000000  0.042  ACORN-E   \n",
       "999949  MAC000036      Std  2012-11-07 23:30:00.0000000  0.034  ACORN-E   \n",
       "999950  MAC000036      Std  2012-11-08 00:00:00.0000000  0.002  ACORN-E   \n",
       "999951  MAC000036      Std  2012-11-08 00:30:00.0000000  0.000  ACORN-E   \n",
       "999952  MAC000036      Std  2012-11-08 01:00:00.0000000  0.036  ACORN-E   \n",
       "999953  MAC000036      Std  2012-11-08 01:30:00.0000000  0.030  ACORN-E   \n",
       "999954  MAC000036      Std  2012-11-08 02:00:00.0000000  0.000  ACORN-E   \n",
       "999955  MAC000036      Std  2012-11-08 02:30:00.0000000  0.000  ACORN-E   \n",
       "999956  MAC000036      Std  2012-11-08 03:00:00.0000000  0.034  ACORN-E   \n",
       "999957  MAC000036      Std  2012-11-08 03:30:00.0000000  0.034  ACORN-E   \n",
       "999958  MAC000036      Std  2012-11-08 04:00:00.0000000  0.000  ACORN-E   \n",
       "999959  MAC000036      Std  2012-11-08 04:30:00.0000000  0.000  ACORN-E   \n",
       "999960  MAC000036      Std  2012-11-08 05:00:00.0000000  0.028  ACORN-E   \n",
       "999961  MAC000036      Std  2012-11-08 05:30:00.0000000  0.038  ACORN-E   \n",
       "999962  MAC000036      Std  2012-11-08 06:00:00.0000000  0.000  ACORN-E   \n",
       "999963  MAC000036      Std  2012-11-08 06:30:00.0000000  0.000  ACORN-E   \n",
       "999964  MAC000036      Std  2012-11-08 07:00:00.0000000  0.027  ACORN-E   \n",
       "999965  MAC000036      Std  2012-11-08 07:30:00.0000000  0.039  ACORN-E   \n",
       "999966  MAC000036      Std  2012-11-08 08:00:00.0000000  0.228  ACORN-E   \n",
       "999967  MAC000036      Std  2012-11-08 08:30:00.0000000  0.042  ACORN-E   \n",
       "999968  MAC000036      Std  2012-11-08 09:00:00.0000000  0.076  ACORN-E   \n",
       "999969  MAC000036      Std  2012-11-08 09:30:00.0000000  0.070  ACORN-E   \n",
       "999970  MAC000036      Std  2012-11-08 10:00:00.0000000  0.005  ACORN-E   \n",
       "\n",
       "       Acorn_grouped  \n",
       "10000       Affluent  \n",
       "10001       Affluent  \n",
       "10002       Affluent  \n",
       "10003       Affluent  \n",
       "10004       Affluent  \n",
       "10005       Affluent  \n",
       "10006       Affluent  \n",
       "10007       Affluent  \n",
       "10008       Affluent  \n",
       "10009       Affluent  \n",
       "10010       Affluent  \n",
       "10011       Affluent  \n",
       "10012       Affluent  \n",
       "10013       Affluent  \n",
       "10014       Affluent  \n",
       "10015       Affluent  \n",
       "10016       Affluent  \n",
       "10017       Affluent  \n",
       "10018       Affluent  \n",
       "10019       Affluent  \n",
       "10020       Affluent  \n",
       "10021       Affluent  \n",
       "10022       Affluent  \n",
       "10023       Affluent  \n",
       "10024       Affluent  \n",
       "10025       Affluent  \n",
       "10026       Affluent  \n",
       "10027       Affluent  \n",
       "10028       Affluent  \n",
       "10029       Affluent  \n",
       "...              ...  \n",
       "999941      Affluent  \n",
       "999942      Affluent  \n",
       "999943      Affluent  \n",
       "999944      Affluent  \n",
       "999945      Affluent  \n",
       "999946      Affluent  \n",
       "999947      Affluent  \n",
       "999948      Affluent  \n",
       "999949      Affluent  \n",
       "999950      Affluent  \n",
       "999951      Affluent  \n",
       "999952      Affluent  \n",
       "999953      Affluent  \n",
       "999954      Affluent  \n",
       "999955      Affluent  \n",
       "999956      Affluent  \n",
       "999957      Affluent  \n",
       "999958      Affluent  \n",
       "999959      Affluent  \n",
       "999960      Affluent  \n",
       "999961      Affluent  \n",
       "999962      Affluent  \n",
       "999963      Affluent  \n",
       "999964      Affluent  \n",
       "999965      Affluent  \n",
       "999966      Affluent  \n",
       "999967      Affluent  \n",
       "999968      Affluent  \n",
       "999969      Affluent  \n",
       "999970      Affluent  \n",
       "\n",
       "[989971 rows x 6 columns]"
      ]
     },
     "execution_count": 113,
     "metadata": {},
     "output_type": "execute_result"
    }
   ],
   "source": [
    "df.head()"
   ]
  },
  {
   "cell_type": "markdown",
   "metadata": {},
   "source": [
    "Data Exploration"
   ]
  },
  {
   "cell_type": "code",
   "execution_count": 15,
   "metadata": {},
   "outputs": [
    {
     "data": {
      "text/plain": [
       "(999971, 6)"
      ]
     },
     "execution_count": 15,
     "metadata": {},
     "output_type": "execute_result"
    }
   ],
   "source": [
    "df.shape"
   ]
  },
  {
   "cell_type": "code",
   "execution_count": 21,
   "metadata": {},
   "outputs": [
    {
     "name": "stdout",
     "output_type": "stream",
     "text": [
      "<class 'pandas.core.frame.DataFrame'>\n",
      "Int64Index: 999971 entries, 0 to 999970\n",
      "Data columns (total 6 columns):\n",
      "LCLid            999971 non-null object\n",
      "stdorToU         999971 non-null object\n",
      "DateTime         999971 non-null object\n",
      "KWh              999971 non-null float64\n",
      "Acorn            999971 non-null object\n",
      "Acorn_grouped    999971 non-null object\n",
      "dtypes: float64(1), object(5)\n",
      "memory usage: 53.4+ MB\n"
     ]
    }
   ],
   "source": [
    "df.info()"
   ]
  },
  {
   "cell_type": "code",
   "execution_count": 104,
   "metadata": {},
   "outputs": [
    {
     "data": {
      "text/plain": [
       "LCLid            0\n",
       "stdorToU         0\n",
       "DateTime         0\n",
       "KWh              0\n",
       "Acorn            0\n",
       "Acorn_grouped    0\n",
       "dtype: int64"
      ]
     },
     "execution_count": 104,
     "metadata": {},
     "output_type": "execute_result"
    }
   ],
   "source": [
    "df.isnull().sum()   #crosscheck! though unnecessary"
   ]
  },
  {
   "cell_type": "code",
   "execution_count": null,
   "metadata": {},
   "outputs": [],
   "source": []
  },
  {
   "cell_type": "markdown",
   "metadata": {},
   "source": [
    "Iterated through the description given in the Problem Statements to get the clear picture of what \n",
    "each clumn is meant for!?\n"
   ]
  },
  {
   "cell_type": "markdown",
   "metadata": {},
   "source": [
    "explore about each attribute, their unique values"
   ]
  },
  {
   "cell_type": "code",
   "execution_count": 106,
   "metadata": {},
   "outputs": [
    {
     "data": {
      "text/plain": [
       "30"
      ]
     },
     "execution_count": 106,
     "metadata": {},
     "output_type": "execute_result"
    }
   ],
   "source": [
    "df['LCLid'].nunique()"
   ]
  },
  {
   "cell_type": "markdown",
   "metadata": {},
   "source": [
    "So a total of 30 house holds!\n"
   ]
  },
  {
   "cell_type": "code",
   "execution_count": 87,
   "metadata": {},
   "outputs": [
    {
     "data": {
      "text/plain": [
       "LCLid\n",
       "MAC000002    2.415770\n",
       "MAC000003    3.546903\n",
       "MAC000004    3.167692\n",
       "MAC000006    3.646106\n",
       "MAC000007    2.504573\n",
       "MAC000008    2.601275\n",
       "MAC000009    2.523773\n",
       "MAC000010    2.504873\n",
       "MAC000011    2.370469\n",
       "MAC000012    2.466972\n",
       "MAC000013    2.961386\n",
       "MAC000016    1.952357\n",
       "MAC000018    3.908213\n",
       "MAC000019    3.907113\n",
       "MAC000020    3.907913\n",
       "MAC000021    3.907913\n",
       "MAC000022    3.907213\n",
       "MAC000023    3.906913\n",
       "MAC000024    3.902713\n",
       "MAC000025    3.906513\n",
       "MAC000026    3.906513\n",
       "MAC000027    3.906913\n",
       "MAC000028    3.215793\n",
       "MAC000029    3.906413\n",
       "MAC000030    3.906713\n",
       "MAC000032    3.906913\n",
       "MAC000033    3.907113\n",
       "MAC000034    3.907013\n",
       "MAC000035    3.902413\n",
       "MAC000036    1.617547\n",
       "dtype: float64"
      ]
     },
     "execution_count": 87,
     "metadata": {},
     "output_type": "execute_result"
    }
   ],
   "source": [
    "df.groupby('LCLid').size()/df['LCLid'].count()*100"
   ]
  },
  {
   "cell_type": "code",
   "execution_count": 34,
   "metadata": {},
   "outputs": [
    {
     "data": {
      "text/plain": [
       "1"
      ]
     },
     "execution_count": 34,
     "metadata": {},
     "output_type": "execute_result"
    }
   ],
   "source": [
    "df['stdorToU'].nunique()"
   ]
  },
  {
   "cell_type": "code",
   "execution_count": 35,
   "metadata": {},
   "outputs": [
    {
     "data": {
      "text/plain": [
       "array(['Std'], dtype=object)"
      ]
     },
     "execution_count": 35,
     "metadata": {},
     "output_type": "execute_result"
    }
   ],
   "source": [
    "df['stdorToU'].unique()"
   ]
  },
  {
   "cell_type": "code",
   "execution_count": 36,
   "metadata": {},
   "outputs": [
    {
     "data": {
      "text/plain": [
       "39095"
      ]
     },
     "execution_count": 36,
     "metadata": {},
     "output_type": "execute_result"
    }
   ],
   "source": [
    "df['DateTime'].nunique()"
   ]
  },
  {
   "cell_type": "code",
   "execution_count": 37,
   "metadata": {},
   "outputs": [
    {
     "data": {
      "text/plain": [
       "array(['2012-10-12 00:30:00.0000000', '2012-10-12 01:00:00.0000000',\n",
       "       '2012-10-12 01:30:00.0000000', ..., '2012-01-30 10:00:00.0000000',\n",
       "       '2012-01-30 10:30:00.0000000', '2012-01-30 11:00:00.0000000'],\n",
       "      dtype=object)"
      ]
     },
     "execution_count": 37,
     "metadata": {},
     "output_type": "execute_result"
    }
   ],
   "source": [
    "df['DateTime'].unique()"
   ]
  },
  {
   "cell_type": "code",
   "execution_count": 41,
   "metadata": {},
   "outputs": [
    {
     "data": {
      "text/plain": [
       "11"
      ]
     },
     "execution_count": 41,
     "metadata": {},
     "output_type": "execute_result"
    }
   ],
   "source": [
    "df['Acorn'].nunique()"
   ]
  },
  {
   "cell_type": "code",
   "execution_count": 86,
   "metadata": {
    "scrolled": false
   },
   "outputs": [
    {
     "data": {
      "text/plain": [
       "Acorn\n",
       "ACORN-A     6.322483\n",
       "ACORN-D     3.906513\n",
       "ACORN-E    33.903383\n",
       "ACORN-H     7.610721\n",
       "ACORN-J     7.814827\n",
       "ACORN-K     8.820856\n",
       "ACORN-L     2.523773\n",
       "ACORN-N     2.370469\n",
       "ACORN-P    11.359829\n",
       "ACORN-Q    11.460232\n",
       "ACORN-U     3.906913\n",
       "dtype: float64"
      ]
     },
     "execution_count": 86,
     "metadata": {},
     "output_type": "execute_result"
    }
   ],
   "source": [
    "df.groupby('Acorn').size()/df['Acorn'].count()*100"
   ]
  },
  {
   "cell_type": "code",
   "execution_count": 38,
   "metadata": {},
   "outputs": [
    {
     "data": {
      "text/plain": [
       "4"
      ]
     },
     "execution_count": 38,
     "metadata": {},
     "output_type": "execute_result"
    }
   ],
   "source": [
    "df['Acorn_grouped'].nunique()"
   ]
  },
  {
   "cell_type": "code",
   "execution_count": 85,
   "metadata": {},
   "outputs": [
    {
     "data": {
      "text/plain": [
       "Acorn_grouped\n",
       "ACORN-U         3.906913\n",
       "Adversity      36.535160\n",
       "Affluent       44.132380\n",
       "Comfortable    15.425547\n",
       "dtype: float64"
      ]
     },
     "execution_count": 85,
     "metadata": {},
     "output_type": "execute_result"
    }
   ],
   "source": [
    "df.groupby('Acorn_grouped').size()/df['Acorn_grouped'].count()*100"
   ]
  },
  {
   "cell_type": "code",
   "execution_count": 77,
   "metadata": {},
   "outputs": [
    {
     "data": {
      "image/png": "[encoded data removed]",
      "text/plain": [
       "<Figure size 432x288 with 1 Axes>"
      ]
     },
     "metadata": {
      "needs_background": "light"
     },
     "output_type": "display_data"
    }
   ],
   "source": [
    "df['Acorn_grouped'].unique()\n",
    "fig = mplt.figure(figsize=(6,4))\n",
    "sns.barplot(x = df['Acorn_grouped'].unique(), y=df['Acorn_grouped'].value_counts())\n",
    "mplt.title(\"Different groups\")\n",
    "mplt.show()"
   ]
  },
  {
   "cell_type": "markdown",
   "metadata": {},
   "source": [
    "Insights: They were many affluent : rich"
   ]
  },
  {
   "cell_type": "markdown",
   "metadata": {},
   "source": [
    "So going through every column is done! \n",
    "Prepare the Data ----- kind of Data preprocessing based on our needs and convienience"
   ]
  },
  {
   "cell_type": "code",
   "execution_count": 78,
   "metadata": {},
   "outputs": [],
   "source": [
    "df2 = pd.read_csv('/home/puja/Downloads/Power-Networks-LCL (copy).csv')"
   ]
  },
  {
   "cell_type": "code",
   "execution_count": 79,
   "metadata": {},
   "outputs": [],
   "source": [
    "df2['Acorn'] = df2['Acorn'].str.replace('ACORN-', \"\")\n"
   ]
  },
  {
   "cell_type": "markdown",
   "metadata": {},
   "source": [
    "DateTime column -  format is different which is little uncomfortable! let us change it!"
   ]
  },
  {
   "cell_type": "code",
   "execution_count": 114,
   "metadata": {},
   "outputs": [],
   "source": [
    "df2['DateTime'] = pd.to_datetime(df2['DateTime'])\n",
    "df2['year'] = df2['DateTime'].dt.year\n",
    "df2['month'] = df2['DateTime'].dt.month\n",
    "df2['day'] = df2['DateTime'].dt.day\n",
    "#df2['hour'] = df2['DateTime'].dt.hour\n",
    "#df2 = df2.drop('hour',axis = 1)\n",
    "df2['minute'] = df2['DateTime'].dt.minute\n",
    "df2['date'] = df2['DateTime'].dt.date\n",
    "format = '%I:%M %p'\n",
    "df2['time'] = df2['DateTime'].dt.time.apply(lambda x: x.strftime(format))"
   ]
  },
  {
   "cell_type": "code",
   "execution_count": 115,
   "metadata": {},
   "outputs": [
    {
     "data": {
      "text/html": [
       "<div>\n",
       "<table border=\"1\" class=\"dataframe\">\n",
       "  <thead>\n",
       "    <tr style=\"text-align: right;\">\n",
       "      <th></th>\n",
       "      <th>LCLid</th>\n",
       "      <th>stdorToU</th>\n",
       "      <th>DateTime</th>\n",
       "      <th>KWh</th>\n",
       "      <th>Acorn</th>\n",
       "      <th>Acorn_grouped</th>\n",
       "      <th>year</th>\n",
       "      <th>month</th>\n",
       "      <th>day</th>\n",
       "      <th>date</th>\n",
       "      <th>time</th>\n",
       "      <th>minute</th>\n",
       "    </tr>\n",
       "  </thead>\n",
       "  <tbody>\n",
       "    <tr>\n",
       "      <th>0</th>\n",
       "      <td>MAC000002</td>\n",
       "      <td>Std</td>\n",
       "      <td>2012-10-12 00:30:00</td>\n",
       "      <td>0</td>\n",
       "      <td>A</td>\n",
       "      <td>Affluent</td>\n",
       "      <td>2012</td>\n",
       "      <td>10</td>\n",
       "      <td>12</td>\n",
       "      <td>2012-10-12</td>\n",
       "      <td>12:30 AM</td>\n",
       "      <td>30</td>\n",
       "    </tr>\n",
       "    <tr>\n",
       "      <th>1</th>\n",
       "      <td>MAC000002</td>\n",
       "      <td>Std</td>\n",
       "      <td>2012-10-12 01:00:00</td>\n",
       "      <td>0</td>\n",
       "      <td>A</td>\n",
       "      <td>Affluent</td>\n",
       "      <td>2012</td>\n",
       "      <td>10</td>\n",
       "      <td>12</td>\n",
       "      <td>2012-10-12</td>\n",
       "      <td>01:00 AM</td>\n",
       "      <td>0</td>\n",
       "    </tr>\n",
       "    <tr>\n",
       "      <th>2</th>\n",
       "      <td>MAC000002</td>\n",
       "      <td>Std</td>\n",
       "      <td>2012-10-12 01:30:00</td>\n",
       "      <td>0</td>\n",
       "      <td>A</td>\n",
       "      <td>Affluent</td>\n",
       "      <td>2012</td>\n",
       "      <td>10</td>\n",
       "      <td>12</td>\n",
       "      <td>2012-10-12</td>\n",
       "      <td>01:30 AM</td>\n",
       "      <td>30</td>\n",
       "    </tr>\n",
       "  </tbody>\n",
       "</table>\n",
       "</div>"
      ],
      "text/plain": [
       "       LCLid stdorToU            DateTime  KWh Acorn Acorn_grouped  year  \\\n",
       "0  MAC000002      Std 2012-10-12 00:30:00    0     A      Affluent  2012   \n",
       "1  MAC000002      Std 2012-10-12 01:00:00    0     A      Affluent  2012   \n",
       "2  MAC000002      Std 2012-10-12 01:30:00    0     A      Affluent  2012   \n",
       "\n",
       "   month  day        date      time  minute  \n",
       "0     10   12  2012-10-12  12:30 AM      30  \n",
       "1     10   12  2012-10-12  01:00 AM       0  \n",
       "2     10   12  2012-10-12  01:30 AM      30  "
      ]
     },
     "execution_count": 115,
     "metadata": {},
     "output_type": "execute_result"
    }
   ],
   "source": [
    "df2[:3]"
   ]
  },
  {
   "cell_type": "markdown",
   "metadata": {},
   "source": [
    "Problem statement : Hourly samples should be more\n",
    "for this let us consider\n",
    "    (So, minute = 0)"
   ]
  },
  {
   "cell_type": "markdown",
   "metadata": {},
   "source": [
    "New insights! "
   ]
  },
  {
   "cell_type": "code",
   "execution_count": 82,
   "metadata": {},
   "outputs": [
    {
     "data": {
      "text/plain": [
       "4"
      ]
     },
     "execution_count": 82,
     "metadata": {},
     "output_type": "execute_result"
    }
   ],
   "source": [
    "df2['year'].nunique()"
   ]
  },
  {
   "cell_type": "code",
   "execution_count": 83,
   "metadata": {},
   "outputs": [
    {
     "data": {
      "text/plain": [
       "array([2012, 2013, 2014, 2011])"
      ]
     },
     "execution_count": 83,
     "metadata": {},
     "output_type": "execute_result"
    }
   ],
   "source": [
    "df2['year'].unique()"
   ]
  },
  {
   "cell_type": "markdown",
   "metadata": {},
   "source": [
    "So the Data existing with us was collected from 2011 to 2014 (4 years data)"
   ]
  },
  {
   "cell_type": "code",
   "execution_count": 128,
   "metadata": {},
   "outputs": [],
   "source": [
    "def create_features(df, label=None):\n",
    "    \"\"\"\n",
    "    Creates time series features from datetime index\n",
    "    \"\"\"\n",
    "    \n",
    "    df['DateTime'] = pd.to_datetime(df2['DateTime'])\n",
    "    df['hour'] = df['DateTime'].dt.hour\n",
    "    df['dayofweek'] = df['DateTime'].dt.dayofweek\n",
    "    df['quarter'] = df['DateTime'].dt.quarter\n",
    "    df['month'] = df['DateTime'].dt.month\n",
    "    df['year'] = df['DateTime'].dt.year\n",
    "    df['dayofyear'] = df['DateTime'].dt.dayofyear\n",
    "    df['dayofmonth'] = df['DateTime'].dt.day\n",
    "    df['weekofyear'] = df['DateTime'].dt.weekofyear\n",
    "    \n",
    "    X = df[['hour','dayofweek','quarter','month','year',\n",
    "           'dayofyear','dayofmonth','weekofyear']]\n",
    "    if label:\n",
    "        y = df[label]\n",
    "        return X, y\n",
    "    return X"
   ]
  },
  {
   "cell_type": "code",
   "execution_count": 129,
   "metadata": {},
   "outputs": [],
   "source": [
    "pj = pd.read_csv('/home/puja/Downloads/Power-Networks-LCL.csv')"
   ]
  },
  {
   "cell_type": "code",
   "execution_count": 130,
   "metadata": {},
   "outputs": [],
   "source": [
    "split_date = '2012-10-12 01:30:00'\n",
    "pj_train = pj.loc[pj.DateTime <= split_date].copy()\n",
    "pj_test = pj.loc[pj.DateTime > split_date].copy()"
   ]
  },
  {
   "cell_type": "code",
   "execution_count": 136,
   "metadata": {},
   "outputs": [
    {
     "data": {
      "text/html": [
       "<div>\n",
       "<table border=\"1\" class=\"dataframe\">\n",
       "  <thead>\n",
       "    <tr style=\"text-align: right;\">\n",
       "      <th></th>\n",
       "      <th>hour</th>\n",
       "      <th>dayofweek</th>\n",
       "      <th>quarter</th>\n",
       "      <th>month</th>\n",
       "      <th>year</th>\n",
       "      <th>dayofyear</th>\n",
       "      <th>dayofmonth</th>\n",
       "      <th>weekofyear</th>\n",
       "    </tr>\n",
       "  </thead>\n",
       "  <tbody>\n",
       "    <tr>\n",
       "      <th>0</th>\n",
       "      <td>0</td>\n",
       "      <td>4</td>\n",
       "      <td>4</td>\n",
       "      <td>10</td>\n",
       "      <td>2012</td>\n",
       "      <td>286</td>\n",
       "      <td>12</td>\n",
       "      <td>41</td>\n",
       "    </tr>\n",
       "    <tr>\n",
       "      <th>1</th>\n",
       "      <td>1</td>\n",
       "      <td>4</td>\n",
       "      <td>4</td>\n",
       "      <td>10</td>\n",
       "      <td>2012</td>\n",
       "      <td>286</td>\n",
       "      <td>12</td>\n",
       "      <td>41</td>\n",
       "    </tr>\n",
       "    <tr>\n",
       "      <th>24157</th>\n",
       "      <td>13</td>\n",
       "      <td>0</td>\n",
       "      <td>1</td>\n",
       "      <td>2</td>\n",
       "      <td>2012</td>\n",
       "      <td>51</td>\n",
       "      <td>20</td>\n",
       "      <td>8</td>\n",
       "    </tr>\n",
       "    <tr>\n",
       "      <th>24158</th>\n",
       "      <td>13</td>\n",
       "      <td>0</td>\n",
       "      <td>1</td>\n",
       "      <td>2</td>\n",
       "      <td>2012</td>\n",
       "      <td>51</td>\n",
       "      <td>20</td>\n",
       "      <td>8</td>\n",
       "    </tr>\n",
       "    <tr>\n",
       "      <th>24159</th>\n",
       "      <td>14</td>\n",
       "      <td>0</td>\n",
       "      <td>1</td>\n",
       "      <td>2</td>\n",
       "      <td>2012</td>\n",
       "      <td>51</td>\n",
       "      <td>20</td>\n",
       "      <td>8</td>\n",
       "    </tr>\n",
       "  </tbody>\n",
       "</table>\n",
       "</div>"
      ],
      "text/plain": [
       "       hour  dayofweek  quarter  month  year  dayofyear  dayofmonth  \\\n",
       "0         0          4        4     10  2012        286          12   \n",
       "1         1          4        4     10  2012        286          12   \n",
       "24157    13          0        1      2  2012         51          20   \n",
       "24158    13          0        1      2  2012         51          20   \n",
       "24159    14          0        1      2  2012         51          20   \n",
       "\n",
       "       weekofyear  \n",
       "0              41  \n",
       "1              41  \n",
       "24157           8  \n",
       "24158           8  \n",
       "24159           8  "
      ]
     },
     "execution_count": 136,
     "metadata": {},
     "output_type": "execute_result"
    }
   ],
   "source": [
    "X_train.head(5)"
   ]
  },
  {
   "cell_type": "code",
   "execution_count": 137,
   "metadata": {},
   "outputs": [
    {
     "data": {
      "text/html": [
       "<div>\n",
       "<table border=\"1\" class=\"dataframe\">\n",
       "  <thead>\n",
       "    <tr style=\"text-align: right;\">\n",
       "      <th></th>\n",
       "      <th>LCLid</th>\n",
       "      <th>stdorToU</th>\n",
       "      <th>DateTime</th>\n",
       "      <th>KWh</th>\n",
       "      <th>Acorn</th>\n",
       "      <th>Acorn_grouped</th>\n",
       "    </tr>\n",
       "  </thead>\n",
       "  <tbody>\n",
       "    <tr>\n",
       "      <th>0</th>\n",
       "      <td>MAC000002</td>\n",
       "      <td>Std</td>\n",
       "      <td>2012-10-12 00:30:00.0000000</td>\n",
       "      <td>0</td>\n",
       "      <td>ACORN-A</td>\n",
       "      <td>Affluent</td>\n",
       "    </tr>\n",
       "    <tr>\n",
       "      <th>1</th>\n",
       "      <td>MAC000002</td>\n",
       "      <td>Std</td>\n",
       "      <td>2012-10-12 01:00:00.0000000</td>\n",
       "      <td>0</td>\n",
       "      <td>ACORN-A</td>\n",
       "      <td>Affluent</td>\n",
       "    </tr>\n",
       "    <tr>\n",
       "      <th>2</th>\n",
       "      <td>MAC000002</td>\n",
       "      <td>Std</td>\n",
       "      <td>2012-10-12 01:30:00.0000000</td>\n",
       "      <td>0</td>\n",
       "      <td>ACORN-A</td>\n",
       "      <td>Affluent</td>\n",
       "    </tr>\n",
       "    <tr>\n",
       "      <th>3</th>\n",
       "      <td>MAC000002</td>\n",
       "      <td>Std</td>\n",
       "      <td>2012-10-12 02:00:00.0000000</td>\n",
       "      <td>0</td>\n",
       "      <td>ACORN-A</td>\n",
       "      <td>Affluent</td>\n",
       "    </tr>\n",
       "    <tr>\n",
       "      <th>4</th>\n",
       "      <td>MAC000002</td>\n",
       "      <td>Std</td>\n",
       "      <td>2012-10-12 02:30:00.0000000</td>\n",
       "      <td>0</td>\n",
       "      <td>ACORN-A</td>\n",
       "      <td>Affluent</td>\n",
       "    </tr>\n",
       "  </tbody>\n",
       "</table>\n",
       "</div>"
      ],
      "text/plain": [
       "       LCLid stdorToU                     DateTime  KWh    Acorn Acorn_grouped\n",
       "0  MAC000002      Std  2012-10-12 00:30:00.0000000    0  ACORN-A      Affluent\n",
       "1  MAC000002      Std  2012-10-12 01:00:00.0000000    0  ACORN-A      Affluent\n",
       "2  MAC000002      Std  2012-10-12 01:30:00.0000000    0  ACORN-A      Affluent\n",
       "3  MAC000002      Std  2012-10-12 02:00:00.0000000    0  ACORN-A      Affluent\n",
       "4  MAC000002      Std  2012-10-12 02:30:00.0000000    0  ACORN-A      Affluent"
      ]
     },
     "execution_count": 137,
     "metadata": {},
     "output_type": "execute_result"
    }
   ],
   "source": [
    "pj.head(5)"
   ]
  },
  {
   "cell_type": "code",
   "execution_count": 131,
   "metadata": {},
   "outputs": [],
   "source": [
    "X_train, y_train = create_features(pj_train, label='KWh')\n",
    "X_test, y_test = create_features(pj_test, label='KWh')"
   ]
  },
  {
   "cell_type": "code",
   "execution_count": 132,
   "metadata": {},
   "outputs": [
    {
     "ename": "NameError",
     "evalue": "name 'reg' is not defined",
     "output_type": "error",
     "traceback": [
      "\u001b[0;31m---------------------------------------------------------------------------\u001b[0m",
      "\u001b[0;31mNameError\u001b[0m                                 Traceback (most recent call last)",
      "\u001b[0;32m<ipython-input-132-92a8f532318e>\u001b[0m in \u001b[0;36m<module>\u001b[0;34m\u001b[0m\n\u001b[1;32m      1\u001b[0m \u001b[0;34m\u001b[0m\u001b[0m\n\u001b[0;32m----> 2\u001b[0;31m reg.fit(X_train, y_train,\n\u001b[0m\u001b[1;32m      3\u001b[0m         \u001b[0meval_set\u001b[0m\u001b[0;34m=\u001b[0m\u001b[0;34m[\u001b[0m\u001b[0;34m(\u001b[0m\u001b[0mX_train\u001b[0m\u001b[0;34m,\u001b[0m \u001b[0my_train\u001b[0m\u001b[0;34m)\u001b[0m\u001b[0;34m,\u001b[0m \u001b[0;34m(\u001b[0m\u001b[0mX_test\u001b[0m\u001b[0;34m,\u001b[0m \u001b[0my_test\u001b[0m\u001b[0;34m)\u001b[0m\u001b[0;34m]\u001b[0m\u001b[0;34m,\u001b[0m\u001b[0;34m\u001b[0m\u001b[0m\n\u001b[1;32m      4\u001b[0m         \u001b[0mearly_stopping_rounds\u001b[0m\u001b[0;34m=\u001b[0m\u001b[0;36m50\u001b[0m\u001b[0;34m,\u001b[0m\u001b[0;34m\u001b[0m\u001b[0m\n\u001b[1;32m      5\u001b[0m        verbose=False)\n",
      "\u001b[0;31mNameError\u001b[0m: name 'reg' is not defined"
     ]
    }
   ],
   "source": []
  },
  {
   "cell_type": "code",
   "execution_count": null,
   "metadata": {},
   "outputs": [],
   "source": []
  }
 ],
 "metadata": {
  "kernelspec": {
   "display_name": "Python 3",
   "language": "python",
   "name": "python3"
  },
  "language_info": {
   "codemirror_mode": {
    "name": "ipython",
    "version": 3
   },
   "file_extension": ".py",
   "mimetype": "text/x-python",
   "name": "python",
   "nbconvert_exporter": "python",
   "pygments_lexer": "ipython3",
   "version": "3.5.2"
  }
 },
 "nbformat": 4,
 "nbformat_minor": 2
}
